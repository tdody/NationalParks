{
 "cells": [
  {
   "cell_type": "code",
   "execution_count": 1,
   "metadata": {},
   "outputs": [],
   "source": [
    "import os, sys\n",
    "sys.path.append('..')\n",
    "\n",
    "from nationalparks import database\n",
    "\n",
    "import pandas as pd\n",
    "import json\n",
    "import glob"
   ]
  },
  {
   "cell_type": "code",
   "execution_count": 29,
   "metadata": {
    "scrolled": true
   },
   "outputs": [
    {
     "name": "stdout",
     "output_type": "stream",
     "text": [
      "... information retrieved for ../scrapper/data/filtered/noca.csv\n",
      "... information retrieved for ../scrapper/data/filtered/wrst.csv\n",
      "... information retrieved for ../scrapper/data/filtered/bibe.csv\n",
      "... information retrieved for ../scrapper/data/filtered/brca.csv\n",
      "... information retrieved for ../scrapper/data/filtered/katm.csv\n",
      "... information retrieved for ../scrapper/data/filtered/grte.csv\n",
      "... information retrieved for ../scrapper/data/filtered/lacl.csv\n",
      "... information retrieved for ../scrapper/data/filtered/yose.csv\n",
      "... information retrieved for ../scrapper/data/filtered/lavo.csv\n",
      "... information retrieved for ../scrapper/data/filtered/thro.csv\n",
      "... information retrieved for ../scrapper/data/filtered/jeff.csv\n",
      "... information retrieved for ../scrapper/data/filtered/shen.csv\n",
      "... information retrieved for ../scrapper/data/filtered/mora.csv\n",
      "... information retrieved for ../scrapper/data/filtered/meve.csv\n",
      "... information retrieved for ../scrapper/data/filtered/whsa.csv\n",
      "... information retrieved for ../scrapper/data/filtered/blca.csv\n",
      "... information retrieved for ../scrapper/data/filtered/maca.csv\n",
      "... information retrieved for ../scrapper/data/filtered/cave.csv\n",
      "... information retrieved for ../scrapper/data/filtered/arch.csv\n",
      "... information retrieved for ../scrapper/data/filtered/romo.csv\n",
      "... information retrieved for ../scrapper/data/filtered/kefj.csv\n",
      "... information retrieved for ../scrapper/data/filtered/sequ.csv\n",
      "... information retrieved for ../scrapper/data/filtered/drto.csv\n",
      "... information retrieved for ../scrapper/data/filtered/crla.csv\n",
      "... information retrieved for ../scrapper/data/filtered/havo.csv\n",
      "... information retrieved for ../scrapper/data/filtered/viis.csv\n",
      "... information retrieved for ../scrapper/data/filtered/yell.csv\n",
      "... information retrieved for ../scrapper/data/filtered/hale.csv\n",
      "... information retrieved for ../scrapper/data/filtered/glac.csv\n",
      "... information retrieved for ../scrapper/data/filtered/badl.csv\n",
      "... information retrieved for ../scrapper/data/filtered/grsa.csv\n",
      "... information retrieved for ../scrapper/data/filtered/glba.csv\n",
      "... information retrieved for ../scrapper/data/filtered/grsm.csv\n",
      "... information retrieved for ../scrapper/data/filtered/deva.csv\n",
      "... information retrieved for ../scrapper/data/filtered/jotr.csv\n",
      "... information retrieved for ../scrapper/data/filtered/cong.csv\n",
      "... information retrieved for ../scrapper/data/filtered/bisc.csv\n",
      "... information retrieved for ../scrapper/data/filtered/sagu.csv\n",
      "... information retrieved for ../scrapper/data/filtered/gumo.csv\n",
      "... information retrieved for ../scrapper/data/filtered/npsa.csv\n",
      "... information retrieved for ../scrapper/data/filtered/chis.csv\n",
      "... information retrieved for ../scrapper/data/filtered/dena.csv\n",
      "... information retrieved for ../scrapper/data/filtered/acad.csv\n",
      "... information retrieved for ../scrapper/data/filtered/wica.csv\n",
      "... information retrieved for ../scrapper/data/filtered/cany.csv\n",
      "... information retrieved for ../scrapper/data/filtered/ever.csv\n",
      "... information retrieved for ../scrapper/data/filtered/pinn.csv\n",
      "... information retrieved for ../scrapper/data/filtered/pefo.csv\n",
      "... information retrieved for ../scrapper/data/filtered/cuva.csv\n",
      "... information retrieved for ../scrapper/data/filtered/olym.csv\n",
      "... information retrieved for ../scrapper/data/filtered/isro.csv\n",
      "... information retrieved for ../scrapper/data/filtered/care.csv\n",
      "... information retrieved for ../scrapper/data/filtered/kica.csv\n",
      "... information retrieved for ../scrapper/data/filtered/grca.csv\n",
      "... information retrieved for ../scrapper/data/filtered/hosp.csv\n",
      "... information retrieved for ../scrapper/data/filtered/redw.csv\n",
      "... information retrieved for ../scrapper/data/filtered/zion.csv\n",
      "... information retrieved for ../scrapper/data/filtered/gaar.csv\n",
      "... information retrieved for ../scrapper/data/filtered/voya.csv\n",
      "... information retrieved for ../scrapper/data/filtered/indu.csv\n",
      "... information retrieved for ../scrapper/data/filtered/grba.csv\n",
      "... information retrieved for ../scrapper/data/filtered/kova.csv\n",
      "... 1,270,290 photos found\n"
     ]
    }
   ],
   "source": [
    "## create database clients\n",
    "DB = database.DB()\n",
    "\n",
    "## get paths to csv\n",
    "path = '../scrapper/data/filtered' # use your path\n",
    "all_files = glob.glob(path + '/*.csv')\n",
    "\n",
    "## store dataframe for each park\n",
    "li = []\n",
    "\n",
    "for filename in all_files:\n",
    "    df = pd.read_csv(filename, index_col=None, header=0)\n",
    "    \n",
    "    ## add parkunit\n",
    "    df['parkunit'] = filename.split('/')[-1].replace('.csv',\"\")\n",
    "    \n",
    "    ## drop unecessary features\n",
    "    to_drop = [\n",
    "        'Unnamed: 0',\n",
    "        'Unnamed: 0.1',\n",
    "        'ispublic',\n",
    "        'isfriend',\n",
    "        'isfamily',\n",
    "        'accuracy',\n",
    "        'place_id',\n",
    "        'woeid',\n",
    "        'originalsecret',\n",
    "        'originalformat',\n",
    "        'machine_tags',\n",
    "        'geo_is_public',\n",
    "        'geo_is_contact',\n",
    "        'geo_is_friend',\n",
    "        'geo_is_family'\n",
    "    ]\n",
    "    df = df.drop(to_drop, axis=1)\n",
    "    \n",
    "    li.append(df)\n",
    "    \n",
    "    print('... information retrieved for ' + filename)\n",
    "\n",
    "## compile info\n",
    "df_photos = pd.concat(li, axis=0, ignore_index=True)\n",
    "print('... {:,} photos found'.format(df_photos.shape[0]))"
   ]
  },
  {
   "cell_type": "code",
   "execution_count": 31,
   "metadata": {},
   "outputs": [],
   "source": [
    "df_photos2 = df_photos.head()"
   ]
  },
  {
   "cell_type": "code",
   "execution_count": 32,
   "metadata": {},
   "outputs": [],
   "source": [
    "#j = json.loads(df_photos.T.to_json()).values()"
   ]
  },
  {
   "cell_type": "code",
   "execution_count": 33,
   "metadata": {},
   "outputs": [],
   "source": [
    "data = df_photos2.to_dict(orient='records')  # Here's our added param.."
   ]
  },
  {
   "cell_type": "code",
   "execution_count": 34,
   "metadata": {},
   "outputs": [
    {
     "data": {
      "text/plain": [
       "<pymongo.results.DeleteResult at 0x7fb32987c288>"
      ]
     },
     "execution_count": 34,
     "metadata": {},
     "output_type": "execute_result"
    }
   ],
   "source": [
    "### clear existing content\n",
    "DB.photos.delete_many({})"
   ]
  },
  {
   "cell_type": "code",
   "execution_count": 35,
   "metadata": {},
   "outputs": [
    {
     "data": {
      "text/plain": [
       "<pymongo.results.InsertManyResult at 0x7fb3656d1588>"
      ]
     },
     "execution_count": 35,
     "metadata": {},
     "output_type": "execute_result"
    }
   ],
   "source": [
    "## update database\n",
    "DB.photos.insert_many(data)"
   ]
  },
  {
   "cell_type": "code",
   "execution_count": null,
   "metadata": {},
   "outputs": [],
   "source": []
  }
 ],
 "metadata": {
  "kernelspec": {
   "display_name": "NationalParks",
   "language": "python",
   "name": "nationalparks"
  },
  "language_info": {
   "codemirror_mode": {
    "name": "ipython",
    "version": 3
   },
   "file_extension": ".py",
   "mimetype": "text/x-python",
   "name": "python",
   "nbconvert_exporter": "python",
   "pygments_lexer": "ipython3",
   "version": "3.7.0"
  },
  "varInspector": {
   "cols": {
    "lenName": 16,
    "lenType": 16,
    "lenVar": 40
   },
   "kernels_config": {
    "python": {
     "delete_cmd_postfix": "",
     "delete_cmd_prefix": "del ",
     "library": "var_list.py",
     "varRefreshCmd": "print(var_dic_list())"
    },
    "r": {
     "delete_cmd_postfix": ") ",
     "delete_cmd_prefix": "rm(",
     "library": "var_list.r",
     "varRefreshCmd": "cat(var_dic_list()) "
    }
   },
   "position": {
    "height": "144.545px",
    "left": "914.091px",
    "right": "20px",
    "top": "120px",
    "width": "350px"
   },
   "types_to_exclude": [
    "module",
    "function",
    "builtin_function_or_method",
    "instance",
    "_Feature"
   ],
   "window_display": false
  }
 },
 "nbformat": 4,
 "nbformat_minor": 4
}
