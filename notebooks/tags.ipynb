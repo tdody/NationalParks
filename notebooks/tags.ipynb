{
 "cells": [
  {
   "cell_type": "code",
   "execution_count": 1,
   "metadata": {},
   "outputs": [],
   "source": [
    "import os, sys\n",
    "sys.path.append('..')\n",
    "\n",
    "import update_database"
   ]
  },
  {
   "cell_type": "code",
   "execution_count": 2,
   "metadata": {},
   "outputs": [
    {
     "name": "stdout",
     "output_type": "stream",
     "text": [
      "... tf-idf computed for noca.csv\n",
      "... tf-idf computed for wrst.csv\n",
      "... tf-idf computed for bibe.csv\n",
      "... tf-idf computed for brca.csv\n",
      "... tf-idf computed for katm.csv\n",
      "... tf-idf computed for grte.csv\n",
      "... tf-idf computed for lacl.csv\n",
      "... tf-idf computed for yose.csv\n",
      "... tf-idf computed for lavo.csv\n",
      "... tf-idf computed for thro.csv\n",
      "... tf-idf computed for jeff.csv\n",
      "... tf-idf computed for shen.csv\n",
      "... tf-idf computed for mora.csv\n",
      "... tf-idf computed for meve.csv\n",
      "... tf-idf computed for whsa.csv\n",
      "... tf-idf computed for blca.csv\n",
      "... tf-idf computed for maca.csv\n",
      "... tf-idf computed for cave.csv\n",
      "... tf-idf computed for arch.csv\n",
      "... tf-idf computed for romo.csv\n",
      "... tf-idf computed for kefj.csv\n",
      "... tf-idf computed for sequ.csv\n",
      "... tf-idf computed for drto.csv\n",
      "... tf-idf computed for crla.csv\n",
      "... tf-idf computed for havo.csv\n",
      "... tf-idf computed for viis.csv\n",
      "... tf-idf computed for yell.csv\n",
      "... tf-idf computed for hale.csv\n",
      "... tf-idf computed for glac.csv\n",
      "... tf-idf computed for badl.csv\n",
      "... tf-idf computed for grsa.csv\n",
      "... tf-idf computed for glba.csv\n",
      "... tf-idf computed for grsm.csv\n",
      "... tf-idf computed for deva.csv\n",
      "... tf-idf computed for jotr.csv\n",
      "... tf-idf computed for cong.csv\n",
      "... tf-idf computed for bisc.csv\n",
      "... tf-idf computed for sagu.csv\n",
      "... tf-idf computed for gumo.csv\n",
      "... tf-idf computed for npsa.csv\n",
      "... tf-idf computed for chis.csv\n",
      "... tf-idf computed for dena.csv\n",
      "... tf-idf computed for acad.csv\n",
      "... tf-idf computed for wica.csv\n",
      "... tf-idf computed for cany.csv\n",
      "... tf-idf computed for ever.csv\n",
      "... tf-idf computed for pinn.csv\n",
      "... tf-idf computed for pefo.csv\n",
      "... tf-idf computed for cuva.csv\n",
      "... tf-idf computed for olym.csv\n",
      "... tf-idf computed for isro.csv\n",
      "... tf-idf computed for care.csv\n",
      "... tf-idf computed for kica.csv\n",
      "... tf-idf computed for grca.csv\n",
      "... tf-idf computed for hosp.csv\n",
      "... tf-idf computed for redw.csv\n",
      "... tf-idf computed for zion.csv\n",
      "... tf-idf computed for gaar.csv\n",
      "... tf-idf computed for voya.csv\n",
      "... tf-idf computed for indu.csv\n",
      "... tf-idf computed for grba.csv\n",
      "... tf-idf computed for kova.csv\n"
     ]
    }
   ],
   "source": [
    "a = update_database.update_tags.update_tags()"
   ]
  },
  {
   "cell_type": "code",
   "execution_count": 3,
   "metadata": {},
   "outputs": [],
   "source": [
    "a"
   ]
  },
  {
   "cell_type": "code",
   "execution_count": null,
   "metadata": {},
   "outputs": [],
   "source": []
  },
  {
   "cell_type": "code",
   "execution_count": null,
   "metadata": {},
   "outputs": [],
   "source": []
  }
 ],
 "metadata": {
  "kernelspec": {
   "display_name": "NationalParks",
   "language": "python",
   "name": "nationalparks"
  },
  "language_info": {
   "codemirror_mode": {
    "name": "ipython",
    "version": 3
   },
   "file_extension": ".py",
   "mimetype": "text/x-python",
   "name": "python",
   "nbconvert_exporter": "python",
   "pygments_lexer": "ipython3",
   "version": "3.7.0"
  },
  "varInspector": {
   "cols": {
    "lenName": 16,
    "lenType": 16,
    "lenVar": 40
   },
   "kernels_config": {
    "python": {
     "delete_cmd_postfix": "",
     "delete_cmd_prefix": "del ",
     "library": "var_list.py",
     "varRefreshCmd": "print(var_dic_list())"
    },
    "r": {
     "delete_cmd_postfix": ") ",
     "delete_cmd_prefix": "rm(",
     "library": "var_list.r",
     "varRefreshCmd": "cat(var_dic_list()) "
    }
   },
   "types_to_exclude": [
    "module",
    "function",
    "builtin_function_or_method",
    "instance",
    "_Feature"
   ],
   "window_display": false
  }
 },
 "nbformat": 4,
 "nbformat_minor": 4
}
