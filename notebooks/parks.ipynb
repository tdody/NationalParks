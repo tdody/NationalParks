{
 "cells": [
  {
   "cell_type": "code",
   "execution_count": 1,
   "metadata": {},
   "outputs": [],
   "source": [
    "%load_ext autoreload\n",
    "%autoreload 2"
   ]
  },
  {
   "cell_type": "code",
   "execution_count": 2,
   "metadata": {},
   "outputs": [],
   "source": [
    "from tqdm import tqdm"
   ]
  },
  {
   "cell_type": "code",
   "execution_count": 3,
   "metadata": {},
   "outputs": [],
   "source": [
    "import sys\n",
    "sys.path.append('..')\n",
    "import json\n",
    "import folium\n",
    "import scrapper.scrap_parks as sc\n",
    "from nationalparks import parks"
   ]
  },
  {
   "cell_type": "code",
   "execution_count": 4,
   "metadata": {},
   "outputs": [],
   "source": [
    "import sys, os\n",
    "import folium\n",
    "sys.path.append('..')\n",
    "import flickrapi\n",
    "import nationalparks.secrets as secrets\n",
    "import nationalparks.parks as parks\n",
    "import scrapper.fetch_images as fetch_images\n",
    "from datetime import datetime\n",
    "import pandas as pd\n",
    "import glob"
   ]
  },
  {
   "cell_type": "code",
   "execution_count": 5,
   "metadata": {},
   "outputs": [],
   "source": [
    "filenames = glob.glob(\"../scrapper/data/geojson/*.geojson\")\n",
    "filenames.sort()\n",
    "my_parks = []\n",
    "for filename in filenames:\n",
    "    park_unit = filename.split('/')[-1].split('.')[0]\n",
    "    my_park = parks.Park(park_unit)\n",
    "    my_parks.append(my_park)"
   ]
  },
  {
   "cell_type": "code",
   "execution_count": 7,
   "metadata": {
    "scrolled": false
   },
   "outputs": [
    {
     "name": "stdout",
     "output_type": "stream",
     "text": [
      "... existing images retrieved for acad.csv\n",
      "... existing images retrieved for arch.csv\n",
      "... existing images retrieved for badl.csv\n",
      "... existing images retrieved for bibe.csv\n",
      "... existing images retrieved for bisc.csv\n",
      "... existing images retrieved for blca.csv\n",
      "... existing images retrieved for brca.csv\n",
      "... existing images retrieved for cany.csv\n",
      "... existing images retrieved for care.csv\n",
      "... existing images retrieved for cave.csv\n",
      "... existing images retrieved for chis.csv\n",
      "... existing images retrieved for cong.csv\n",
      "... existing images retrieved for crla.csv\n",
      "... existing images retrieved for cuva.csv\n",
      "... existing images retrieved for dena.csv\n",
      "... existing images retrieved for deva.csv\n",
      "... existing images retrieved for drto.csv\n",
      "... existing images retrieved for ever.csv\n",
      "... existing images retrieved for gaar.csv\n",
      "... existing images retrieved for glac.csv\n",
      "... existing images retrieved for glba.csv\n",
      "... existing images retrieved for grba.csv\n"
     ]
    },
    {
     "name": "stderr",
     "output_type": "stream",
     "text": [
      "\r",
      "  0%|          | 0/75000 [00:00<?, ?it/s]"
     ]
    },
    {
     "name": "stdout",
     "output_type": "stream",
     "text": [
      "... trimming dataset to 75000 records for grca\n"
     ]
    },
    {
     "name": "stderr",
     "output_type": "stream",
     "text": [
      "100%|██████████| 75000/75000 [9:59:09<00:00,  2.09it/s]   \n",
      "  0%|          | 16/6274 [00:00<00:40, 152.71it/s]"
     ]
    },
    {
     "name": "stdout",
     "output_type": "stream",
     "text": [
      "... 65174 results saved in grca_ids.csv\n"
     ]
    },
    {
     "name": "stderr",
     "output_type": "stream",
     "text": [
      "100%|██████████| 6274/6274 [00:43<00:00, 143.84it/s]\n"
     ]
    },
    {
     "name": "stdout",
     "output_type": "stream",
     "text": [
      "... 5905 results saved in grsa_ids.csv\n"
     ]
    },
    {
     "name": "stderr",
     "output_type": "stream",
     "text": [
      "  0%|          | 5/75000 [00:00<25:35, 48.84it/s]"
     ]
    },
    {
     "name": "stdout",
     "output_type": "stream",
     "text": [
      "... trimming dataset to 75000 records for grsm\n"
     ]
    },
    {
     "name": "stderr",
     "output_type": "stream",
     "text": [
      "100%|██████████| 75000/75000 [22:57<00:00, 54.45it/s]\n",
      "  0%|          | 0/41002 [00:00<?, ?it/s]"
     ]
    },
    {
     "name": "stdout",
     "output_type": "stream",
     "text": [
      "... 44859 results saved in grsm_ids.csv\n"
     ]
    },
    {
     "name": "stderr",
     "output_type": "stream",
     "text": [
      "100%|██████████| 41002/41002 [08:25<00:00, 81.18it/s]\n",
      "  1%|          | 17/3266 [00:00<00:19, 168.41it/s]"
     ]
    },
    {
     "name": "stdout",
     "output_type": "stream",
     "text": [
      "... 35944 results saved in grte_ids.csv\n"
     ]
    },
    {
     "name": "stderr",
     "output_type": "stream",
     "text": [
      "100%|██████████| 3266/3266 [00:15<00:00, 205.53it/s]\n",
      "  0%|          | 15/20426 [00:00<02:17, 148.66it/s]"
     ]
    },
    {
     "name": "stdout",
     "output_type": "stream",
     "text": [
      "... 2803 results saved in gumo_ids.csv\n"
     ]
    },
    {
     "name": "stderr",
     "output_type": "stream",
     "text": [
      "100%|██████████| 20426/20426 [02:28<00:00, 137.63it/s]\n",
      "  0%|          | 0/33768 [00:00<?, ?it/s]"
     ]
    },
    {
     "name": "stdout",
     "output_type": "stream",
     "text": [
      "... 18775 results saved in hale_ids.csv\n"
     ]
    },
    {
     "name": "stderr",
     "output_type": "stream",
     "text": [
      "100%|██████████| 33768/33768 [12:09<00:00, 46.29it/s]\n",
      "  0%|          | 22/7009 [00:00<00:31, 219.97it/s]"
     ]
    },
    {
     "name": "stdout",
     "output_type": "stream",
     "text": [
      "... 23922 results saved in havo_ids.csv\n"
     ]
    },
    {
     "name": "stderr",
     "output_type": "stream",
     "text": [
      "100%|██████████| 7009/7009 [00:34<00:00, 205.72it/s]\n",
      "  0%|          | 0/40949 [00:00<?, ?it/s]"
     ]
    },
    {
     "name": "stdout",
     "output_type": "stream",
     "text": [
      "... 2868 results saved in hosp_ids.csv\n"
     ]
    },
    {
     "name": "stderr",
     "output_type": "stream",
     "text": [
      "100%|██████████| 40949/40949 [17:58<00:00, 37.96it/s]\n",
      "  2%|▏         | 64/3782 [00:00<00:05, 633.63it/s]"
     ]
    },
    {
     "name": "stdout",
     "output_type": "stream",
     "text": [
      "... 7590 results saved in indu_ids.csv\n"
     ]
    },
    {
     "name": "stderr",
     "output_type": "stream",
     "text": [
      "100%|██████████| 3782/3782 [00:05<00:00, 638.55it/s]\n",
      "  0%|          | 0/29500 [00:00<?, ?it/s]"
     ]
    },
    {
     "name": "stdout",
     "output_type": "stream",
     "text": [
      "... 3594 results saved in isro_ids.csv\n"
     ]
    },
    {
     "name": "stderr",
     "output_type": "stream",
     "text": [
      "100%|██████████| 29500/29500 [00:17<00:00, 1701.70it/s]\n"
     ]
    },
    {
     "name": "stdout",
     "output_type": "stream",
     "text": [
      "... 22231 results saved in jeff_ids.csv\n"
     ]
    },
    {
     "name": "stderr",
     "output_type": "stream",
     "text": [
      "  0%|          | 10/75000 [00:00<13:19, 93.81it/s]"
     ]
    },
    {
     "name": "stdout",
     "output_type": "stream",
     "text": [
      "... trimming dataset to 75000 records for jotr\n"
     ]
    },
    {
     "name": "stderr",
     "output_type": "stream",
     "text": [
      "100%|██████████| 75000/75000 [18:17<00:00, 68.32it/s] \n",
      "  0%|          | 2/4786 [00:00<05:15, 15.15it/s]"
     ]
    },
    {
     "name": "stdout",
     "output_type": "stream",
     "text": [
      "... 29006 results saved in jotr_ids.csv\n"
     ]
    },
    {
     "name": "stderr",
     "output_type": "stream",
     "text": [
      "100%|██████████| 4786/4786 [10:19<00:00,  7.72it/s]\n",
      "  0%|          | 0/4310 [00:00<?, ?it/s]"
     ]
    },
    {
     "name": "stdout",
     "output_type": "stream",
     "text": [
      "... 4601 results saved in katm_ids.csv\n"
     ]
    },
    {
     "name": "stderr",
     "output_type": "stream",
     "text": [
      "100%|██████████| 4310/4310 [1:17:42<00:00,  1.08s/it]\n",
      "  0%|          | 0/33267 [00:00<?, ?it/s]"
     ]
    },
    {
     "name": "stdout",
     "output_type": "stream",
     "text": [
      "... 2178 results saved in kefj_ids.csv\n"
     ]
    },
    {
     "name": "stderr",
     "output_type": "stream",
     "text": [
      "100%|██████████| 33267/33267 [17:19<00:00, 32.00it/s] \n",
      "  2%|▏         | 5/258 [00:00<00:06, 38.93it/s]"
     ]
    },
    {
     "name": "stdout",
     "output_type": "stream",
     "text": [
      "... 17460 results saved in kica_ids.csv\n"
     ]
    },
    {
     "name": "stderr",
     "output_type": "stream",
     "text": [
      "100%|██████████| 258/258 [00:14<00:00, 17.67it/s]\n",
      "  0%|          | 0/1018 [00:00<?, ?it/s]"
     ]
    },
    {
     "name": "stdout",
     "output_type": "stream",
     "text": [
      "... 43 results saved in kova_ids.csv\n"
     ]
    },
    {
     "name": "stderr",
     "output_type": "stream",
     "text": [
      "100%|██████████| 1018/1018 [02:29<00:00,  6.81it/s]\n",
      "  0%|          | 37/11503 [00:00<00:31, 369.42it/s]"
     ]
    },
    {
     "name": "stdout",
     "output_type": "stream",
     "text": [
      "... 748 results saved in lacl_ids.csv\n"
     ]
    },
    {
     "name": "stderr",
     "output_type": "stream",
     "text": [
      "100%|██████████| 11503/11503 [00:31<00:00, 365.53it/s]\n",
      "  0%|          | 4/4345 [00:00<01:59, 36.22it/s]"
     ]
    },
    {
     "name": "stdout",
     "output_type": "stream",
     "text": [
      "... 11074 results saved in lavo_ids.csv\n"
     ]
    },
    {
     "name": "stderr",
     "output_type": "stream",
     "text": [
      "100%|██████████| 4345/4345 [02:04<00:00, 34.81it/s]\n",
      "  1%|          | 66/11000 [00:00<00:16, 654.37it/s]"
     ]
    },
    {
     "name": "stdout",
     "output_type": "stream",
     "text": [
      "... 4085 results saved in maca_ids.csv\n"
     ]
    },
    {
     "name": "stderr",
     "output_type": "stream",
     "text": [
      "100%|██████████| 11000/11000 [00:17<00:00, 643.45it/s]\n"
     ]
    },
    {
     "name": "stdout",
     "output_type": "stream",
     "text": [
      "... 10862 results saved in meve_ids.csv\n"
     ]
    },
    {
     "name": "stderr",
     "output_type": "stream",
     "text": [
      "100%|██████████| 55500/55500 [04:38<00:00, 199.63it/s]\n",
      "  0%|          | 9/18938 [00:00<03:41, 85.54it/s]"
     ]
    },
    {
     "name": "stdout",
     "output_type": "stream",
     "text": [
      "... 51044 results saved in mora_ids.csv\n"
     ]
    },
    {
     "name": "stderr",
     "output_type": "stream",
     "text": [
      "100%|██████████| 18938/18938 [03:29<00:00, 90.34it/s] \n",
      "  2%|▏         | 25/1188 [00:00<00:04, 242.39it/s]"
     ]
    },
    {
     "name": "stdout",
     "output_type": "stream",
     "text": [
      "... 4885 results saved in noca_ids.csv\n"
     ]
    },
    {
     "name": "stderr",
     "output_type": "stream",
     "text": [
      "100%|██████████| 1188/1188 [00:05<00:00, 222.83it/s]\n"
     ]
    },
    {
     "name": "stdout",
     "output_type": "stream",
     "text": [
      "... 174 results saved in npsa_ids.csv\n"
     ]
    },
    {
     "name": "stderr",
     "output_type": "stream",
     "text": [
      "100%|██████████| 70919/70919 [16:22<00:00, 72.21it/s] \n",
      "  0%|          | 16/13121 [00:00<01:25, 152.50it/s]"
     ]
    },
    {
     "name": "stdout",
     "output_type": "stream",
     "text": [
      "... 48355 results saved in olym_ids.csv\n"
     ]
    },
    {
     "name": "stderr",
     "output_type": "stream",
     "text": [
      "100%|██████████| 13121/13121 [01:33<00:00, 141.02it/s]\n",
      "  1%|          | 58/8267 [00:00<00:14, 576.68it/s]"
     ]
    },
    {
     "name": "stdout",
     "output_type": "stream",
     "text": [
      "... 12749 results saved in pefo_ids.csv\n"
     ]
    },
    {
     "name": "stderr",
     "output_type": "stream",
     "text": [
      "100%|██████████| 8267/8267 [00:14<00:00, 559.05it/s]\n",
      "  0%|          | 8/17860 [00:00<03:54, 76.02it/s]"
     ]
    },
    {
     "name": "stdout",
     "output_type": "stream",
     "text": [
      "... 8140 results saved in pinn_ids.csv\n"
     ]
    },
    {
     "name": "stderr",
     "output_type": "stream",
     "text": [
      "100%|██████████| 17860/17860 [04:52<00:00, 60.99it/s]\n"
     ]
    },
    {
     "name": "stdout",
     "output_type": "stream",
     "text": [
      "... 13144 results saved in redw_ids.csv\n"
     ]
    },
    {
     "name": "stderr",
     "output_type": "stream",
     "text": [
      "100%|██████████| 60772/60772 [27:19<00:00, 37.06it/s]\n"
     ]
    },
    {
     "name": "stdout",
     "output_type": "stream",
     "text": [
      "... 43896 results saved in romo_ids.csv\n"
     ]
    },
    {
     "name": "stderr",
     "output_type": "stream",
     "text": [
      "  0%|          | 24/75000 [00:00<05:21, 233.10it/s]"
     ]
    },
    {
     "name": "stdout",
     "output_type": "stream",
     "text": [
      "... trimming dataset to 75000 records for sagu\n"
     ]
    },
    {
     "name": "stderr",
     "output_type": "stream",
     "text": [
      "100%|██████████| 75000/75000 [05:29<00:00, 227.96it/s]\n",
      "  0%|          | 0/32224 [00:00<?, ?it/s]"
     ]
    },
    {
     "name": "stdout",
     "output_type": "stream",
     "text": [
      "... 4231 results saved in sagu_ids.csv\n"
     ]
    },
    {
     "name": "stderr",
     "output_type": "stream",
     "text": [
      "100%|██████████| 32224/32224 [11:34<00:00, 46.43it/s]\n"
     ]
    },
    {
     "name": "stdout",
     "output_type": "stream",
     "text": [
      "... 26034 results saved in sequ_ids.csv\n"
     ]
    },
    {
     "name": "stderr",
     "output_type": "stream",
     "text": [
      "100%|██████████| 64111/64111 [36:27<00:00, 29.30it/s]\n",
      "  1%|          | 44/4253 [00:00<00:09, 435.44it/s]"
     ]
    },
    {
     "name": "stdout",
     "output_type": "stream",
     "text": [
      "... 21143 results saved in shen_ids.csv\n"
     ]
    },
    {
     "name": "stderr",
     "output_type": "stream",
     "text": [
      "100%|██████████| 4253/4253 [00:09<00:00, 468.04it/s]\n",
      "  0%|          | 9/16479 [00:00<03:17, 83.60it/s]"
     ]
    },
    {
     "name": "stdout",
     "output_type": "stream",
     "text": [
      "... 3591 results saved in thro_ids.csv\n"
     ]
    },
    {
     "name": "stderr",
     "output_type": "stream",
     "text": [
      "100%|██████████| 16479/16479 [02:47<00:00, 98.23it/s] \n",
      "  7%|▋         | 43/622 [00:00<00:01, 350.42it/s]"
     ]
    },
    {
     "name": "stdout",
     "output_type": "stream",
     "text": [
      "... 11665 results saved in viis_ids.csv\n"
     ]
    },
    {
     "name": "stderr",
     "output_type": "stream",
     "text": [
      "100%|██████████| 622/622 [00:09<00:00, 65.53it/s]\n",
      "  1%|          | 81/8022 [00:00<00:09, 804.87it/s]"
     ]
    },
    {
     "name": "stdout",
     "output_type": "stream",
     "text": [
      "... 464 results saved in voya_ids.csv\n"
     ]
    },
    {
     "name": "stderr",
     "output_type": "stream",
     "text": [
      "100%|██████████| 8022/8022 [00:10<00:00, 784.24it/s]\n",
      "  5%|▍         | 84/1763 [00:00<00:02, 833.00it/s]"
     ]
    },
    {
     "name": "stdout",
     "output_type": "stream",
     "text": [
      "... 7982 results saved in whsa_ids.csv\n"
     ]
    },
    {
     "name": "stderr",
     "output_type": "stream",
     "text": [
      "100%|██████████| 1763/1763 [00:02<00:00, 784.17it/s]\n",
      "  0%|          | 2/8889 [00:00<10:42, 13.84it/s]"
     ]
    },
    {
     "name": "stdout",
     "output_type": "stream",
     "text": [
      "... 1655 results saved in wica_ids.csv\n"
     ]
    },
    {
     "name": "stderr",
     "output_type": "stream",
     "text": [
      "100%|██████████| 8889/8889 [1:02:55<00:00,  2.35it/s]\n"
     ]
    },
    {
     "name": "stdout",
     "output_type": "stream",
     "text": [
      "... 2988 results saved in wrst_ids.csv\n"
     ]
    },
    {
     "name": "stderr",
     "output_type": "stream",
     "text": [
      "  0%|          | 6/75000 [00:00<23:48, 52.50it/s]"
     ]
    },
    {
     "name": "stdout",
     "output_type": "stream",
     "text": [
      "... trimming dataset to 75000 records for yell\n"
     ]
    },
    {
     "name": "stderr",
     "output_type": "stream",
     "text": [
      "100%|██████████| 75000/75000 [29:13<00:00, 42.78it/s]\n"
     ]
    },
    {
     "name": "stdout",
     "output_type": "stream",
     "text": [
      "... 71777 results saved in yell_ids.csv\n"
     ]
    },
    {
     "name": "stderr",
     "output_type": "stream",
     "text": [
      "  0%|          | 3/75000 [00:00<1:16:35, 16.32it/s]"
     ]
    },
    {
     "name": "stdout",
     "output_type": "stream",
     "text": [
      "... trimming dataset to 75000 records for yose\n"
     ]
    },
    {
     "name": "stderr",
     "output_type": "stream",
     "text": [
      "100%|██████████| 75000/75000 [2:01:06<00:00, 10.32it/s]  \n"
     ]
    },
    {
     "name": "stdout",
     "output_type": "stream",
     "text": [
      "... 69162 results saved in yose_ids.csv\n"
     ]
    },
    {
     "name": "stderr",
     "output_type": "stream",
     "text": [
      "100%|██████████| 64438/64438 [02:55<00:00, 366.53it/s]\n"
     ]
    },
    {
     "name": "stdout",
     "output_type": "stream",
     "text": [
      "... 57376 results saved in zion_ids.csv\n"
     ]
    }
   ],
   "source": [
    "tqdm.pandas()\n",
    "image_finder = fetch_images.FlickrImageFinder(my_parks)\n",
    "image_finder.filter_images(erase=False,progress=True)"
   ]
  },
  {
   "cell_type": "code",
   "execution_count": null,
   "metadata": {},
   "outputs": [],
   "source": []
  }
 ],
 "metadata": {
  "kernelspec": {
   "display_name": "NationalParks",
   "language": "python",
   "name": "nationalparks"
  },
  "language_info": {
   "codemirror_mode": {
    "name": "ipython",
    "version": 3
   },
   "file_extension": ".py",
   "mimetype": "text/x-python",
   "name": "python",
   "nbconvert_exporter": "python",
   "pygments_lexer": "ipython3",
   "version": "3.7.0"
  },
  "varInspector": {
   "cols": {
    "lenName": 16,
    "lenType": 16,
    "lenVar": 40
   },
   "kernels_config": {
    "python": {
     "delete_cmd_postfix": "",
     "delete_cmd_prefix": "del ",
     "library": "var_list.py",
     "varRefreshCmd": "print(var_dic_list())"
    },
    "r": {
     "delete_cmd_postfix": ") ",
     "delete_cmd_prefix": "rm(",
     "library": "var_list.r",
     "varRefreshCmd": "cat(var_dic_list()) "
    }
   },
   "types_to_exclude": [
    "module",
    "function",
    "builtin_function_or_method",
    "instance",
    "_Feature"
   ],
   "window_display": false
  }
 },
 "nbformat": 4,
 "nbformat_minor": 4
}
