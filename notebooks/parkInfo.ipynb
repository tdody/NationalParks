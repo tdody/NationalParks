{
 "cells": [
  {
   "cell_type": "code",
   "execution_count": 1,
   "metadata": {},
   "outputs": [
    {
     "data": {
      "text/plain": [
       "['A', 'B', 'C']"
      ]
     },
     "execution_count": 1,
     "metadata": {},
     "output_type": "execute_result"
    }
   ],
   "source": [
    "import pandas as pd\n",
    "a = pd.DataFrame({\"A\":{1:1},\"B\":{1:1},\"C\":{1:1}})\n",
    "list(a.columns)"
   ]
  },
  {
   "cell_type": "code",
   "execution_count": 2,
   "metadata": {},
   "outputs": [],
   "source": [
    "from bs4 import BeautifulSoup\n",
    "import urllib.request\n",
    "import re\n",
    "import os, sys\n",
    "sys.path.append('..')\n",
    "\n",
    "NP_LINK = \"https://en.wikipedia.org/wiki/List_of_national_parks_of_the_United_States?oldformat=true\"\n",
    "\n",
    "def scrap_park_data():\n",
    "    \"\"\"\n",
    "    Extract National Parks data from https://en.wikipedia.org/wiki/List_of_national_parks_of_the_United_States?oldformat=true\n",
    "    \n",
    "    Saves a csv file containing:\n",
    "        - Park name\n",
    "        - State\n",
    "        - Latitude and Longitude\n",
    "        - Surface (acres km2)\n",
    "        - Number of visitors\n",
    "        - Description\n",
    "    \"\"\"\n",
    "\n",
    "    ## load article, turn into soup and get the <table>s.\n",
    "    page = urllib.request.urlopen(NP_LINK)\n",
    "    \n",
    "    ## create soup\n",
    "    soup = BeautifulSoup(page, 'html.parser')\n",
    "    \n",
    "    ## find all tables\n",
    "    np_table = soup.find_all('table', class_='sortable')[0]\n",
    "    \n",
    "    parks = []\n",
    "    data = {}\n",
    "    ## find table header\n",
    "    \n",
    "    ## find table row (tr)\n",
    "    tbody = np_table.find_all(\"tbody\")[0]\n",
    "    trs = tbody.find_all(\"tr\")\n",
    "    \n",
    "    ## skip first tr since it contains the headers\n",
    "    for i in range(1,len(trs)):\n",
    "    \n",
    "        ## extract row content\n",
    "        tr = trs[i]\n",
    "        \n",
    "        ## find park name\n",
    "        np = tr.find_all(\"a\")[0].get('title')\n",
    "        parks.append(np)\n",
    "        data[np] = {}\n",
    "    \n",
    "        ## find park data\n",
    "        tds = tr.find_all(\"td\")\n",
    "    \n",
    "        ## first td: image\n",
    "        ## skip\n",
    "        \n",
    "        ## state + coordinates\n",
    "        ## offset by one if first cell is td\n",
    "        if len(tds)==6:\n",
    "            offset = 1\n",
    "        else:\n",
    "            offset=2\n",
    "    \n",
    "        ## extract state, latitude, and longitude\n",
    "        data[np][\"state\"] = tds[offset].find(\"a\").get('title')\n",
    "        lat = tds[offset].find(\"span\",{\"class\":\"latitude\"}).text\n",
    "        long = tds[offset].find(\"span\",{\"class\":\"longitude\"}).text\n",
    "        data[np][\"latitude\"] = lat\n",
    "        data[np][\"longitude\"] = long\n",
    "    \n",
    "        ## date\n",
    "        data[np][\"date\"] = tds[offset+1].find(\"span\").text\n",
    "        \n",
    "        ## area\n",
    "        surface = re.findall(r'(\\d*\\,?\\d*\\,?\\d+\\.?\\d*)\\s', tds[offset+2].text)\n",
    "        data[np][\"surface_acres\"] = float(surface[0].replace(',',\"\"))\n",
    "        data[np][\"surface_km2\"]  = float(surface[1].replace(',',\"\"))\n",
    "        \n",
    "        ## visitors\n",
    "        data[np][\"visitors\"] = float(re.search(r'(\\d*\\,?\\d*\\,?\\d+\\.?\\d*)', tds[offset+3].text)[0].replace(\",\",\"\"))\n",
    "        ## description\n",
    "        description = re.sub(r'\\[?\\(?\\d+\\)?\\]?', '', tds[offset+4].text.strip())\n",
    "        data[np][\"description\"] = description\n",
    "        \n",
    "    ## save data to csv\n",
    "    parks = pd.DataFrame(data).T.reset_index()\n",
    "    parks.to_csv('../data/parsk.csv')"
   ]
  },
  {
   "cell_type": "code",
   "execution_count": null,
   "metadata": {},
   "outputs": [],
   "source": []
  }
 ],
 "metadata": {
  "kernelspec": {
   "display_name": "Python 3",
   "language": "python",
   "name": "python3"
  },
  "language_info": {
   "codemirror_mode": {
    "name": "ipython",
    "version": 3
   },
   "file_extension": ".py",
   "mimetype": "text/x-python",
   "name": "python",
   "nbconvert_exporter": "python",
   "pygments_lexer": "ipython3",
   "version": "3.7.0"
  },
  "varInspector": {
   "cols": {
    "lenName": 16,
    "lenType": 16,
    "lenVar": 40
   },
   "kernels_config": {
    "python": {
     "delete_cmd_postfix": "",
     "delete_cmd_prefix": "del ",
     "library": "var_list.py",
     "varRefreshCmd": "print(var_dic_list())"
    },
    "r": {
     "delete_cmd_postfix": ") ",
     "delete_cmd_prefix": "rm(",
     "library": "var_list.r",
     "varRefreshCmd": "cat(var_dic_list()) "
    }
   },
   "types_to_exclude": [
    "module",
    "function",
    "builtin_function_or_method",
    "instance",
    "_Feature"
   ],
   "window_display": false
  }
 },
 "nbformat": 4,
 "nbformat_minor": 2
}
