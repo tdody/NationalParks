{
 "cells": [
  {
   "cell_type": "code",
   "execution_count": 2,
   "metadata": {},
   "outputs": [
    {
     "name": "stdout",
     "output_type": "stream",
     "text": [
      "Collecting Pillow\n",
      "  Downloading Pillow-7.2.0-cp37-cp37m-macosx_10_10_x86_64.whl (2.2 MB)\n",
      "\u001b[K     |████████████████████████████████| 2.2 MB 2.5 MB/s eta 0:00:01\n",
      "\u001b[?25hInstalling collected packages: Pillow\n",
      "Successfully installed Pillow-7.2.0\n"
     ]
    }
   ],
   "source": [
    "!pip3 install Pillow"
   ]
  },
  {
   "cell_type": "code",
   "execution_count": 3,
   "metadata": {},
   "outputs": [],
   "source": [
    "from PIL import Image\n",
    "import os, sys\n",
    "sys.path.append('..')"
   ]
  },
  {
   "cell_type": "code",
   "execution_count": 8,
   "metadata": {},
   "outputs": [
    {
     "name": "stdout",
     "output_type": "stream",
     "text": [
      "acad.jpg  care.jpg  drto.jpg  grsm.jpg  jeff.jpg  maca.jpg  redw.jpg  voya.jpg\r\n",
      "arch.jpg  cave.jpg  ever.jpg  grte.jpg  jotr.jpg  meve.jpg  \u001b[1m\u001b[34mresize\u001b[m\u001b[m    whsa.jpg\r\n",
      "badl.jpg  chis.jpg  gaar.jpg  gumo.jpg  katm.jpg  mora.jpg  romo.jpg  wica.jpg\r\n",
      "bibe.jpg  cong.jpg  glac.jpg  hale.jpg  kefj.jpeg noca.jpg  sagu.jpg  wrst.jpg\r\n",
      "bisc.jpg  crla.jpg  glba.jpg  havo.jpg  kica.jpeg npsa.jpg  sequ.jpg  yell.jpeg\r\n",
      "blca.jpg  cuva.jpg  grba.jpg  hosp.jpeg kova.jpg  olym.jpg  shen.jpg  yose.jpg\r\n",
      "brca.jpg  dena.jpg  grca.jpg  indu.jpg  lacl.jpeg pefo.jpg  thro.jpg  zion.jpg\r\n",
      "cany.jpg  deva.jpg  grsa.jpg  isro.jpg  lavo.jpg  pinn.jpg  viis.jpg\r\n"
     ]
    }
   ],
   "source": [
    "!ls ../app/static/img/tiles"
   ]
  },
  {
   "cell_type": "code",
   "execution_count": 20,
   "metadata": {},
   "outputs": [
    {
     "data": {
      "text/plain": [
       "['../app/static/img/tiles/redw.jpg',\n",
       " '../app/static/img/tiles/zion.jpg',\n",
       " '../app/static/img/tiles/kica.jpg',\n",
       " '../app/static/img/tiles/care.jpg',\n",
       " '../app/static/img/tiles/hosp.jpg',\n",
       " '../app/static/img/tiles/grca.jpg',\n",
       " '../app/static/img/tiles/isro.jpg',\n",
       " '../app/static/img/tiles/olym.jpg',\n",
       " '../app/static/img/tiles/pefo.jpg',\n",
       " '../app/static/img/tiles/cuva.jpg',\n",
       " '../app/static/img/tiles/kova.jpg',\n",
       " '../app/static/img/tiles/grba.jpg',\n",
       " '../app/static/img/tiles/indu.jpg',\n",
       " '../app/static/img/tiles/gaar.jpg',\n",
       " '../app/static/img/tiles/voya.jpg',\n",
       " '../app/static/img/tiles/chis.jpg',\n",
       " '../app/static/img/tiles/cong.jpg',\n",
       " '../app/static/img/tiles/bisc.jpg',\n",
       " '../app/static/img/tiles/jotr.jpg',\n",
       " '../app/static/img/tiles/sagu.jpg',\n",
       " '../app/static/img/tiles/gumo.jpg',\n",
       " '../app/static/img/tiles/npsa.jpg',\n",
       " '../app/static/img/tiles/deva.jpg',\n",
       " '../app/static/img/tiles/grsm.jpg',\n",
       " '../app/static/img/tiles/glba.jpg',\n",
       " '../app/static/img/tiles/pinn.jpg',\n",
       " '../app/static/img/tiles/cany.jpg',\n",
       " '../app/static/img/tiles/wica.jpg',\n",
       " '../app/static/img/tiles/ever.jpg',\n",
       " '../app/static/img/tiles/dena.jpg',\n",
       " '../app/static/img/tiles/acad.jpg',\n",
       " '../app/static/img/tiles/viis.jpg',\n",
       " '../app/static/img/tiles/crla.jpg',\n",
       " '../app/static/img/tiles/havo.jpg',\n",
       " '../app/static/img/tiles/kefj.jpg',\n",
       " '../app/static/img/tiles/sequ.jpg',\n",
       " '../app/static/img/tiles/romo.jpg',\n",
       " '../app/static/img/tiles/drto.jpg',\n",
       " '../app/static/img/tiles/whsa.jpg',\n",
       " '../app/static/img/tiles/cave.jpg',\n",
       " '../app/static/img/tiles/arch.jpg',\n",
       " '../app/static/img/tiles/blca.jpg',\n",
       " '../app/static/img/tiles/maca.jpg',\n",
       " '../app/static/img/tiles/meve.jpg',\n",
       " '../app/static/img/tiles/grsa.jpg',\n",
       " '../app/static/img/tiles/badl.jpg',\n",
       " '../app/static/img/tiles/glac.jpg',\n",
       " '../app/static/img/tiles/hale.jpg',\n",
       " '../app/static/img/tiles/noca.jpg',\n",
       " '../app/static/img/tiles/wrst.jpg',\n",
       " '../app/static/img/tiles/shen.jpg',\n",
       " '../app/static/img/tiles/jeff.jpg',\n",
       " '../app/static/img/tiles/mora.jpg',\n",
       " '../app/static/img/tiles/thro.jpg',\n",
       " '../app/static/img/tiles/yose.jpg',\n",
       " '../app/static/img/tiles/lavo.jpg',\n",
       " '../app/static/img/tiles/grte.jpg',\n",
       " '../app/static/img/tiles/brca.jpg',\n",
       " '../app/static/img/tiles/bibe.jpg',\n",
       " '../app/static/img/tiles/katm.jpg']"
      ]
     },
     "execution_count": 20,
     "metadata": {},
     "output_type": "execute_result"
    }
   ],
   "source": [
    "import glob\n"
   ]
  },
  {
   "cell_type": "code",
   "execution_count": 28,
   "metadata": {},
   "outputs": [],
   "source": [
    "for f in glob.glob('../app/static/img/tiles/*.jpg'):\n",
    "    image = Image.open(f)\n",
    "    size = image.size\n",
    "    new_size =  (int(size[0] /  min(size) * 360.), int(size[1] /  min(size) * 360.))\n",
    "    new_image = image.resize(new_size)\n",
    "    new_image.save(os.path.join('../app/static/img/tiles/resize', os.path.basename(f)))"
   ]
  },
  {
   "cell_type": "code",
   "execution_count": 21,
   "metadata": {},
   "outputs": [],
   "source": [
    "import os"
   ]
  },
  {
   "cell_type": "code",
   "execution_count": 24,
   "metadata": {},
   "outputs": [
    {
     "name": "stdout",
     "output_type": "stream",
     "text": [
      "redw.jpg\n",
      "zion.jpg\n",
      "kica.jpg\n",
      "care.jpg\n",
      "hosp.jpg\n",
      "grca.jpg\n",
      "isro.jpg\n",
      "olym.jpg\n",
      "pefo.jpg\n",
      "cuva.jpg\n",
      "kova.jpg\n",
      "grba.jpg\n",
      "indu.jpg\n",
      "gaar.jpg\n",
      "voya.jpg\n",
      "chis.jpg\n",
      "cong.jpg\n",
      "bisc.jpg\n",
      "jotr.jpg\n",
      "sagu.jpg\n",
      "gumo.jpg\n",
      "npsa.jpg\n",
      "deva.jpg\n",
      "grsm.jpg\n",
      "glba.jpg\n",
      "pinn.jpg\n",
      "cany.jpg\n",
      "wica.jpg\n",
      "ever.jpg\n",
      "dena.jpg\n",
      "acad.jpg\n",
      "viis.jpg\n",
      "crla.jpg\n",
      "havo.jpg\n",
      "kefj.jpg\n",
      "sequ.jpg\n",
      "romo.jpg\n",
      "drto.jpg\n",
      "whsa.jpg\n",
      "cave.jpg\n",
      "arch.jpg\n",
      "blca.jpg\n",
      "maca.jpg\n",
      "meve.jpg\n",
      "grsa.jpg\n",
      "badl.jpg\n",
      "glac.jpg\n",
      "hale.jpg\n",
      "noca.jpg\n",
      "wrst.jpg\n",
      "shen.jpg\n",
      "jeff.jpg\n",
      "mora.jpg\n",
      "thro.jpg\n",
      "yose.jpg\n",
      "lavo.jpg\n",
      "grte.jpg\n",
      "brca.jpg\n",
      "bibe.jpg\n",
      "katm.jpg\n"
     ]
    }
   ],
   "source": [
    "for f in glob.glob('../app/static/img/tiles/*.jpg'):\n",
    "    print(os.path.basename(f))"
   ]
  },
  {
   "cell_type": "code",
   "execution_count": 18,
   "metadata": {},
   "outputs": [
    {
     "data": {
      "text/plain": [
       "(360, 450)"
      ]
     },
     "execution_count": 18,
     "metadata": {},
     "output_type": "execute_result"
    }
   ],
   "source": [
    "size = (800, 1000)\n",
    "size =  (int(size[0] /  min(size) * 360.), int(size[1] /  min(size) * 360.))\n",
    "size"
   ]
  },
  {
   "cell_type": "code",
   "execution_count": 12,
   "metadata": {},
   "outputs": [
    {
     "name": "stdout",
     "output_type": "stream",
     "text": [
      "JPEG\n",
      "RGB\n",
      "(800, 800)\n",
      "None\n"
     ]
    }
   ],
   "source": [
    "# The file format of the source file.\n",
    "print(image.format) # Output: JPEG\n",
    "\n",
    "# The pixel format used by the image. Typical values are “1”, “L”, “RGB”, or “CMYK.”\n",
    "print(image.mode) # Output: RGB\n",
    "\n",
    "# Image size, in pixels. The size is given as a 2-tuple (width, height).\n",
    "print(image.size) # Output: (1200, 776)\n",
    "\n",
    "# Colour palette table, if any.\n",
    "print(image.palette) # Output: None"
   ]
  },
  {
   "cell_type": "code",
   "execution_count": 26,
   "metadata": {},
   "outputs": [],
   "source": [
    "image = Image.open('../app/static/img/tiles/meve.jpg')\n",
    "image.show()"
   ]
  },
  {
   "cell_type": "code",
   "execution_count": null,
   "metadata": {},
   "outputs": [],
   "source": [
    "image = Image.open('../app/static/img/tiles/meve.jpg')\n",
    "new_image = image.resize((400, 400))\n",
    "new_image.save('image_400.jpg')\n",
    "\n",
    "print(image.size) # Output: (1200, 776)\n",
    "print(new_image.size) # Output: (400, 400)"
   ]
  }
 ],
 "metadata": {
  "kernelspec": {
   "display_name": "NationalParks",
   "language": "python",
   "name": "nationalparks"
  },
  "language_info": {
   "codemirror_mode": {
    "name": "ipython",
    "version": 3
   },
   "file_extension": ".py",
   "mimetype": "text/x-python",
   "name": "python",
   "nbconvert_exporter": "python",
   "pygments_lexer": "ipython3",
   "version": "3.7.0"
  },
  "varInspector": {
   "cols": {
    "lenName": 16,
    "lenType": 16,
    "lenVar": 40
   },
   "kernels_config": {
    "python": {
     "delete_cmd_postfix": "",
     "delete_cmd_prefix": "del ",
     "library": "var_list.py",
     "varRefreshCmd": "print(var_dic_list())"
    },
    "r": {
     "delete_cmd_postfix": ") ",
     "delete_cmd_prefix": "rm(",
     "library": "var_list.r",
     "varRefreshCmd": "cat(var_dic_list()) "
    }
   },
   "types_to_exclude": [
    "module",
    "function",
    "builtin_function_or_method",
    "instance",
    "_Feature"
   ],
   "window_display": false
  }
 },
 "nbformat": 4,
 "nbformat_minor": 4
}
